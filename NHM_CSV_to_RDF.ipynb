{
 "cells": [
  {
   "cell_type": "markdown",
   "id": "8d7d2354",
   "metadata": {},
   "source": [
    "# Sloane Lab NHM CSV Parser"
   ]
  },
  {
   "cell_type": "markdown",
   "id": "95cbfbaf",
   "metadata": {},
   "source": [
    "This notebook parses the CSV files from the NHM datasets and extracts the data that we want to import into the Sloane Lab knowledge base."
   ]
  },
  {
   "cell_type": "markdown",
   "id": "730cb5ce",
   "metadata": {},
   "source": [
    "#### Import libraries"
   ]
  },
  {
   "cell_type": "code",
   "execution_count": 4,
   "id": "60b5b80b",
   "metadata": {},
   "outputs": [],
   "source": [
    "# -*- coding: future_fstrings -*-\n",
    "import os\n",
    "import re\n",
    "import sys\n",
    "import csv\n",
    "import urllib\n",
    "import titlecase\n",
    "import pandas as pd\n",
    "import xml.etree.ElementTree as ET\n",
    "\n",
    "import rdflib\n",
    "from rdflib import Namespace, URIRef, BNode, Literal\n",
    "from rdflib.namespace import RDF, RDFS, OWL, XSD\n",
    "\n",
    "#from viapy import api\n",
    "from bs4 import BeautifulSoup as Soup\n",
    "#from mapboxgl.utils import *\n",
    "#from mapboxgl.viz import *\n",
    "\n",
    "#from matplotlib import *\n",
    "#import matplotlib.pyplot as plt\n",
    "#%matplotlib inline"
   ]
  },
  {
   "cell_type": "markdown",
   "id": "a51c7af0",
   "metadata": {},
   "source": [
    "#### Data path"
   ]
  },
  {
   "cell_type": "code",
   "execution_count": 5,
   "id": "58ee82b5",
   "metadata": {},
   "outputs": [],
   "source": [
    "# XML file path\n",
    "DATA_PATH = 'data/nhm/'"
   ]
  },
  {
   "cell_type": "markdown",
   "id": "6ba9e269",
   "metadata": {},
   "source": [
    "#### Load datasets"
   ]
  },
  {
   "cell_type": "code",
   "execution_count": 6,
   "id": "cfd11f22",
   "metadata": {},
   "outputs": [
    {
     "name": "stdout",
     "output_type": "stream",
     "text": [
      "https://doi.org/10.5519/qd.mouqh9zl\n",
      "https://doi.org/10.5519/qd.d9md1ytn\n",
      "https://doi.org/10.5519/qd.05w0l071\n",
      "https://doi.org/10.5519/qd.fz6oz0nu\n",
      "https://doi.org/10.5519/qd.vu8anhqj\n",
      "https://doi.org/10.5519/qd.1xr9dft4\n",
      "https://doi.org/10.5519/qd.x2y28c14\n",
      "https://doi.org/10.5519/qd.2an3xk7y\n",
      "https://doi.org/10.5519/qd.lvo9ftjb\n",
      "https://doi.org/10.5519/qd.msszpk1u\n"
     ]
    }
   ],
   "source": [
    "datasets = {}\n",
    "\n",
    "for dataset_dir in os.listdir(DATA_PATH):\n",
    "\n",
    "    if not os.path.isfile(dataset_dir):\n",
    "    \n",
    "        # Open metadata file\n",
    "        with open(f'{DATA_PATH}{dataset_dir}/eml.xml') as xml_file:\n",
    "        \n",
    "            # Read metadata file\n",
    "            tree = ET.parse(xml_file)\n",
    "            \n",
    "            # Find dataset ID\n",
    "            did = tree.find(\".//citation[@identifier]\").attrib['identifier']\n",
    "            \n",
    "            # Find description\n",
    "            desc = dataset_dir.split(' – ')[0]\n",
    "            \n",
    "            print(did)\n",
    "            \n",
    "        # Open data file\n",
    "        datasets[did] = {'desc': desc, 'data': pd.read_csv(f'{DATA_PATH}{dataset_dir}/occurrence.csv')}"
   ]
  },
  {
   "cell_type": "markdown",
   "id": "e045e2eb",
   "metadata": {},
   "source": [
    "#### Declare prefixes and create graph"
   ]
  },
  {
   "cell_type": "code",
   "execution_count": 26,
   "id": "9aa0d60f",
   "metadata": {},
   "outputs": [],
   "source": [
    "# Create namespaces\n",
    "slb=Namespace(\"http://sloanelab.org/\");\n",
    "ecrm=Namespace(\"http://erlangen-crm.org/current/\");\n",
    "crmdig=Namespace(\"http://www.ics.forth.gr/isl/CRMdig/\");\n",
    "\n",
    "# Create graph\n",
    "graph = rdflib.Graph()\n",
    "\n",
    "# Bind prefixes\n",
    "graph.bind(\"slb\", slb)\n",
    "graph.bind(\"ecrm\", ecrm)\n",
    "graph.bind(\"crmdig\", crmdig)"
   ]
  },
  {
   "cell_type": "markdown",
   "id": "37601d3a",
   "metadata": {},
   "source": [
    "#### Add catalogue"
   ]
  },
  {
   "cell_type": "code",
   "execution_count": 27,
   "id": "e3397be6",
   "metadata": {},
   "outputs": [],
   "source": [
    "for i, did in enumerate(datasets):\n",
    "\n",
    "    # Dataset\n",
    "    datasetIRI = slb[f'D1/nhm_dataset_{i+1}'];\n",
    "    graph.add((datasetIRI, OWL.sameAs, URIRef(did)))\n",
    "    graph.add((datasetIRI, RDF.type, crmdig.D1_Digital_Object))\n",
    "    graph.add((datasetIRI, ecrm.P2_has_type, slb['E55/museum_dataset']))\n",
    "    graph.add((datasetIRI, RDFS.label, Literal(f'NHM Dataset {i+1}')))\n",
    "    graph.add((datasetIRI, RDFS.comment, Literal(datasets[did]['desc'])))\n",
    "\n",
    "    for k, record in datasets[did]['data'].iterrows():\n",
    "\n",
    "        # Record\n",
    "        rid = record[\"_id\"]\n",
    "        recordIRI = slb[f'E73/nhm_dataset_{did}/{rid}'];\n",
    "        graph.add((recordIRI, RDF.type, ecrm.E73_Information_Object))\n",
    "        graph.add((recordIRI, ecrm.P2_has_type, slb['E55/museum_record']))\n",
    "        graph.add((recordIRI, RDFS.label, Literal(f'NHM Dataset {i+1} Record {rid}')))\n",
    "        graph.add((datasetIRI, ecrm.P148_has_component, recordIRI))\n",
    "\n",
    "        # People\n",
    "        #for person in record['people']:\n",
    "        #    graph.add((recordIRI, ecrm.P67_refers_to, slb[f'E53/{\"Malta\"}']))\n",
    "    \n",
    "        # Places\n",
    "        #for place in record['places']:\n",
    "        #    graph.add((recordIRI, ecrm.P67_refers_to, slb[f'E53/{\"Malta\"}']))\n",
    "        \n",
    "        objIRI = slb[f'E20/nhm_dataset_{did}/{rid}'];\n",
    "        graph.add((recordIRI, ecrm.P129_is_about, objIRI))\n",
    "\n",
    "        if record[\"collectionCode\"] == 'MIN':\n",
    "            graph.add((objIRI, RDF.type, ecrm.E19_Physical_Object))\n",
    "            desc = f'Record {record[\"_id\"]}\\n{record[\"scientificName\"]}'\n",
    "            \n",
    "            if record[\"scientificName\"] and record[\"scientificName\"] != 'NaN':\n",
    "                material = str(record[\"scientificName\"]).lower().replace(' ', '_').replace('</i>','')\n",
    "                graph.add((objIRI, ecrm.P45_consists_of, slb[f'E55/{material}']))\n",
    "                graph.add((slb[f'E57/{material}'], RDF.type, ecrm[f'E57_Material']))\n",
    "                graph.add((slb[f'E57/{material}'], RDFS.label, Literal(record[\"scientificName\"])))\n",
    "                graph.add((slb[f'E57/{material}'], ecrm.P2_has_type, slb[f'E55/material']))\n",
    "                graph.add((slb[f'E55/material'], RDFS.label, Literal('Material')))\n",
    "        else:\n",
    "            graph.add((objIRI, RDF.type, ecrm.E20_Biological_Object))\n",
    "            desc = f'Record {record[\"_id\"]}\\n{record[\"scientificName\"]}\\n{record[\"higherClassification\"]}'\n",
    "            \n",
    "            if record[\"scientificName\"] and record[\"scientificName\"] != 'NaN':\n",
    "                species = str(record[\"scientificName\"]).lower().replace(' ', '_').replace('</i>','')\n",
    "                graph.add((objIRI, ecrm.P2_has_type, slb[f'E55/{species}']))\n",
    "                graph.add((slb[f'E57/{species}'], RDF.type, ecrm[f'E55_Type']))\n",
    "                graph.add((slb[f'E55/{species}'], RDFS.label, Literal(record[\"scientificName\"])))\n",
    "                graph.add((slb[f'E55/{species}'], ecrm.P2_has_type, slb[f'E55/species']))\n",
    "                graph.add((slb[f'E55/species'], RDFS.label, Literal('Species')))\n",
    "        \n",
    "        graph.add((recordIRI, RDFS.comment, Literal(desc)))\n",
    "\n",
    "        #graph.add((objIRI, OWL.sameAs, slb[f'E19/fishes/172']))"
   ]
  },
  {
   "cell_type": "code",
   "execution_count": 28,
   "id": "3284730f",
   "metadata": {},
   "outputs": [
    {
     "name": "stdout",
     "output_type": "stream",
     "text": [
      "29058\n"
     ]
    }
   ],
   "source": [
    "print(len(graph))"
   ]
  },
  {
   "cell_type": "code",
   "execution_count": 29,
   "id": "0440e235",
   "metadata": {},
   "outputs": [],
   "source": [
    "graph.serialize(destination='/Users/danielemetilli/Downloads/nhm-datasets.ttl', format=\"turtle\");"
   ]
  },
  {
   "cell_type": "code",
   "execution_count": null,
   "id": "3de28c14",
   "metadata": {},
   "outputs": [],
   "source": []
  }
 ],
 "metadata": {
  "kernelspec": {
   "display_name": "Python 3 (ipykernel)",
   "language": "python",
   "name": "python3"
  },
  "language_info": {
   "codemirror_mode": {
    "name": "ipython",
    "version": 3
   },
   "file_extension": ".py",
   "mimetype": "text/x-python",
   "name": "python",
   "nbconvert_exporter": "python",
   "pygments_lexer": "ipython3",
   "version": "3.11.2"
  }
 },
 "nbformat": 4,
 "nbformat_minor": 5
}
