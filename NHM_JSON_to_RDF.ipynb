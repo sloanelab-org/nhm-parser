{
 "cells": [
  {
   "cell_type": "markdown",
   "id": "8d7d2354",
   "metadata": {},
   "source": [
    "# Sloane Lab NHM JSON Parser"
   ]
  },
  {
   "cell_type": "markdown",
   "id": "95cbfbaf",
   "metadata": {},
   "source": [
    "This notebook parses the JSON files from the NHM datasets and extracts the data that we want to import into the Sloane Lab knowledge base."
   ]
  },
  {
   "cell_type": "markdown",
   "id": "730cb5ce",
   "metadata": {},
   "source": [
    "#### Import libraries"
   ]
  },
  {
   "cell_type": "code",
   "execution_count": 1,
   "id": "60b5b80b",
   "metadata": {},
   "outputs": [
    {
     "ename": "ImportError",
     "evalue": "Unable to import required dependencies:\nnumpy: \n\nIMPORTANT: PLEASE READ THIS FOR ADVICE ON HOW TO SOLVE THIS ISSUE!\n\nImporting the numpy C-extensions failed. This error can happen for\nmany reasons, often due to issues with your setup or how NumPy was\ninstalled.\n\nWe have compiled some common reasons and troubleshooting tips at:\n\n    https://numpy.org/devdocs/user/troubleshooting-importerror.html\n\nPlease note and check the following:\n\n  * The Python version is: Python3.11 from \"/opt/homebrew/Cellar/jupyterlab/3.4.8_1/libexec/bin/python3.11\"\n  * The NumPy version is: \"1.24.1\"\n\nand make sure that they are the versions you expect.\nPlease carefully study the documentation linked above for further help.\n\nOriginal error was: No module named 'numpy.core._multiarray_umath'\n",
     "output_type": "error",
     "traceback": [
      "\u001b[0;31m---------------------------------------------------------------------------\u001b[0m",
      "\u001b[0;31mImportError\u001b[0m                               Traceback (most recent call last)",
      "Cell \u001b[0;32mIn[1], line 8\u001b[0m\n\u001b[1;32m      6\u001b[0m \u001b[38;5;28;01mimport\u001b[39;00m \u001b[38;5;21;01murllib\u001b[39;00m\n\u001b[1;32m      7\u001b[0m \u001b[38;5;28;01mimport\u001b[39;00m \u001b[38;5;21;01mtitlecase\u001b[39;00m\n\u001b[0;32m----> 8\u001b[0m \u001b[38;5;28;01mimport\u001b[39;00m \u001b[38;5;21;01mpandas\u001b[39;00m \u001b[38;5;28;01mas\u001b[39;00m \u001b[38;5;21;01mpd\u001b[39;00m\n\u001b[1;32m      9\u001b[0m \u001b[38;5;28;01mimport\u001b[39;00m \u001b[38;5;21;01mxml\u001b[39;00m\u001b[38;5;21;01m.\u001b[39;00m\u001b[38;5;21;01metree\u001b[39;00m\u001b[38;5;21;01m.\u001b[39;00m\u001b[38;5;21;01mElementTree\u001b[39;00m \u001b[38;5;28;01mas\u001b[39;00m \u001b[38;5;21;01mET\u001b[39;00m\n\u001b[1;32m     11\u001b[0m \u001b[38;5;28;01mimport\u001b[39;00m \u001b[38;5;21;01mrdflib\u001b[39;00m\n",
      "File \u001b[0;32m/opt/homebrew/lib/python3.10/site-packages/pandas/__init__.py:16\u001b[0m\n\u001b[1;32m     13\u001b[0m         _missing_dependencies\u001b[38;5;241m.\u001b[39mappend(\u001b[38;5;124mf\u001b[39m\u001b[38;5;124m\"\u001b[39m\u001b[38;5;132;01m{\u001b[39;00m_dependency\u001b[38;5;132;01m}\u001b[39;00m\u001b[38;5;124m: \u001b[39m\u001b[38;5;132;01m{\u001b[39;00m_e\u001b[38;5;132;01m}\u001b[39;00m\u001b[38;5;124m\"\u001b[39m)\n\u001b[1;32m     15\u001b[0m \u001b[38;5;28;01mif\u001b[39;00m _missing_dependencies:\n\u001b[0;32m---> 16\u001b[0m     \u001b[38;5;28;01mraise\u001b[39;00m \u001b[38;5;167;01mImportError\u001b[39;00m(\n\u001b[1;32m     17\u001b[0m         \u001b[38;5;124m\"\u001b[39m\u001b[38;5;124mUnable to import required dependencies:\u001b[39m\u001b[38;5;130;01m\\n\u001b[39;00m\u001b[38;5;124m\"\u001b[39m \u001b[38;5;241m+\u001b[39m \u001b[38;5;124m\"\u001b[39m\u001b[38;5;130;01m\\n\u001b[39;00m\u001b[38;5;124m\"\u001b[39m\u001b[38;5;241m.\u001b[39mjoin(_missing_dependencies)\n\u001b[1;32m     18\u001b[0m     )\n\u001b[1;32m     19\u001b[0m \u001b[38;5;28;01mdel\u001b[39;00m _hard_dependencies, _dependency, _missing_dependencies\n\u001b[1;32m     21\u001b[0m \u001b[38;5;66;03m# numpy compat\u001b[39;00m\n",
      "\u001b[0;31mImportError\u001b[0m: Unable to import required dependencies:\nnumpy: \n\nIMPORTANT: PLEASE READ THIS FOR ADVICE ON HOW TO SOLVE THIS ISSUE!\n\nImporting the numpy C-extensions failed. This error can happen for\nmany reasons, often due to issues with your setup or how NumPy was\ninstalled.\n\nWe have compiled some common reasons and troubleshooting tips at:\n\n    https://numpy.org/devdocs/user/troubleshooting-importerror.html\n\nPlease note and check the following:\n\n  * The Python version is: Python3.11 from \"/opt/homebrew/Cellar/jupyterlab/3.4.8_1/libexec/bin/python3.11\"\n  * The NumPy version is: \"1.24.1\"\n\nand make sure that they are the versions you expect.\nPlease carefully study the documentation linked above for further help.\n\nOriginal error was: No module named 'numpy.core._multiarray_umath'\n"
     ]
    }
   ],
   "source": [
    "# -*- coding: future_fstrings -*-\n",
    "import os\n",
    "import re\n",
    "import sys\n",
    "import csv\n",
    "import urllib\n",
    "import titlecase\n",
    "import pandas as pd\n",
    "import xml.etree.ElementTree as ET\n",
    "\n",
    "import rdflib\n",
    "from rdflib import Namespace, URIRef, BNode, Literal\n",
    "from rdflib.namespace import RDF, RDFS, OWL, XSD\n",
    "\n",
    "#from viapy import api\n",
    "from bs4 import BeautifulSoup as Soup\n",
    "from mapboxgl.utils import *\n",
    "from mapboxgl.viz import *\n",
    "\n",
    "from matplotlib import *\n",
    "import matplotlib.pyplot as plt\n",
    "%matplotlib inline"
   ]
  },
  {
   "cell_type": "markdown",
   "id": "a51c7af0",
   "metadata": {},
   "source": [
    "#### XML File path"
   ]
  },
  {
   "cell_type": "code",
   "execution_count": 7,
   "id": "58ee82b5",
   "metadata": {},
   "outputs": [],
   "source": [
    "# XML file path\n",
    "DATA_PATH = 'data/nhm/'"
   ]
  },
  {
   "cell_type": "markdown",
   "id": "6ba9e269",
   "metadata": {},
   "source": [
    "#### Load JSON"
   ]
  },
  {
   "cell_type": "code",
   "execution_count": 21,
   "id": "cfd11f22",
   "metadata": {},
   "outputs": [
    {
     "data": {
      "text/plain": [
       "{'download_id': 'b680f70b-036b-4ae0-b044-6c329d546b42',\n",
       " 'duration_in_seconds': 4.568718,\n",
       " 'end': '2022-10-13T13:43:16.039358',\n",
       " 'file_format': 'csv',\n",
       " 'files': ['manifest.json', '05ff2255-c38a-40c9-b657-4ccb55ab2feb.csv'],\n",
       " 'format_args': {},\n",
       " 'ignore_empty_fields': True,\n",
       " 'resources': {'05ff2255-c38a-40c9-b657-4ccb55ab2feb': {'field_counts': {'_id': 1307,\n",
       "    'associatedMedia._id': 1349,\n",
       "    'associatedMedia.assetID': 1349,\n",
       "    'associatedMedia.category': 1306,\n",
       "    'associatedMedia.created': 1349,\n",
       "    'associatedMedia.creator': 0,\n",
       "    'associatedMedia.identifier': 1349,\n",
       "    'associatedMedia.license': 1306,\n",
       "    'associatedMedia.mime': 1306,\n",
       "    'associatedMedia.modified': 1349,\n",
       "    'associatedMedia.rightsHolder': 1306,\n",
       "    'associatedMedia.title': 1348,\n",
       "    'associatedMedia.type': 1306,\n",
       "    'associatedMediaCount': 1306,\n",
       "    'barcode': 0,\n",
       "    'basisOfRecord': 1307,\n",
       "    'bed': 0,\n",
       "    'catalogNumber': 1307,\n",
       "    'catalogueDescription': 0,\n",
       "    'chondriteAchondrite': 0,\n",
       "    'chronostratigraphy': 0,\n",
       "    'class': 35,\n",
       "    'clutchSize': 0,\n",
       "    'collectionCode': 1307,\n",
       "    'collectionKind': 1258,\n",
       "    'collectionName': 0,\n",
       "    'commodity': 0,\n",
       "    'continent': 1287,\n",
       "    'coordinateUncertaintyInMeters': 1162,\n",
       "    'country': 1207,\n",
       "    'created': 1307,\n",
       "    'currentScientificName': 0,\n",
       "    'dateRegistered': 0,\n",
       "    'day': 0,\n",
       "    'decimalLatitude': 1237,\n",
       "    'decimalLongitude': 1237,\n",
       "    'depositType': 0,\n",
       "    'determinationFiledAs': 2068,\n",
       "    'determinationNames': 2294,\n",
       "    'determinationTypes': 0,\n",
       "    'donorName': 0,\n",
       "    'earliestAgeOrLowestStage': 0,\n",
       "    'earliestEonOrLowestEonothem': 0,\n",
       "    'earliestEpochOrLowestSeries': 0,\n",
       "    'earliestEraOrLowestErathem': 0,\n",
       "    'earliestPeriodOrLowestSystem': 0,\n",
       "    'expedition': 0,\n",
       "    'exsiccata': 0,\n",
       "    'exsiccataNumber': 0,\n",
       "    'extractionMethod': 0,\n",
       "    'family': 1303,\n",
       "    'fieldNumber': 1307,\n",
       "    'formation': 0,\n",
       "    'gbifID': 1306,\n",
       "    'gbifIssue': 1384,\n",
       "    'genus': 1305,\n",
       "    'geodeticDatum': 0,\n",
       "    'georeferenceProtocol': 44,\n",
       "    'group': 0,\n",
       "    'habitat': 1,\n",
       "    'higherClassification': 1304,\n",
       "    'higherGeography': 1287,\n",
       "    'highestBiostratigraphicZone': 0,\n",
       "    'identificationAsRegistered': 0,\n",
       "    'identificationDescription': 0,\n",
       "    'identificationOther': 0,\n",
       "    'identificationQualifier': 0,\n",
       "    'identificationVariety': 0,\n",
       "    'identifiedBy': 607,\n",
       "    'individualCount': 0,\n",
       "    'infraspecificEpithet': 0,\n",
       "    'institutionCode': 1307,\n",
       "    'island': 0,\n",
       "    'islandGroup': 1166,\n",
       "    'kindOfCollection': 0,\n",
       "    'kindOfObject': 0,\n",
       "    'kingdom': 0,\n",
       "    'latestAgeOrHighestStage': 0,\n",
       "    'latestEonOrHighestEonothem': 0,\n",
       "    'latestEpochOrHighestSeries': 0,\n",
       "    'latestEraOrHighestErathem': 0,\n",
       "    'latestPeriodOrHighestSystem': 0,\n",
       "    'lifeStage': 0,\n",
       "    'lithostratigraphy': 0,\n",
       "    'locality': 23,\n",
       "    'lowestBiostratigraphicZone': 0,\n",
       "    'maximumDepthInMeters': 0,\n",
       "    'maximumElevationInMeters': 0,\n",
       "    'member': 0,\n",
       "    'meteoriteClass': 0,\n",
       "    'meteoriteGroup': 0,\n",
       "    'meteoriteType': 0,\n",
       "    'mine': 0,\n",
       "    'mineralComplex': 0,\n",
       "    'minimumDepthInMeters': 0,\n",
       "    'minimumElevationInMeters': 0,\n",
       "    'modified': 1307,\n",
       "    'month': 0,\n",
       "    'observedWeight': 0,\n",
       "    'occurrence': 0,\n",
       "    'occurrenceID': 1307,\n",
       "    'occurrenceStatus': 1307,\n",
       "    'order': 618,\n",
       "    'otherCatalogNumbers': 1307,\n",
       "    'partType': 0,\n",
       "    'petrologySubtype': 0,\n",
       "    'petrologyType': 0,\n",
       "    'phylum': 532,\n",
       "    'plantDescription': 2,\n",
       "    'populationCode': 0,\n",
       "    'preparationType': 0,\n",
       "    'preparations': 0,\n",
       "    'preservative': 0,\n",
       "    'project': 1306,\n",
       "    'recordNumber': 1307,\n",
       "    'recordedBy': 1307,\n",
       "    'recovery': 0,\n",
       "    'recoveryDate': 0,\n",
       "    'recoveryWeight': 0,\n",
       "    'registeredWeightUnit': 0,\n",
       "    'registrationCode': 0,\n",
       "    'resuspendedIn': 0,\n",
       "    'samplingProtocol': 0,\n",
       "    'scientificName': 1307,\n",
       "    'scientificNameAuthorship': 1271,\n",
       "    'setMark': 0,\n",
       "    'sex': 0,\n",
       "    'specificEpithet': 1282,\n",
       "    'stateProvince': 44,\n",
       "    'subDepartment': 1307,\n",
       "    'subfamily': 0,\n",
       "    'subgenus': 0,\n",
       "    'suborder': 0,\n",
       "    'superfamily': 0,\n",
       "    'taxonRank': 0,\n",
       "    'texture': 0,\n",
       "    'totalVolume': 0,\n",
       "    'typeStatus': 5,\n",
       "    'verbatimLatitude': 1237,\n",
       "    'verbatimLongitude': 1237,\n",
       "    'vessel': 0,\n",
       "    'waterBody': 0,\n",
       "    'year': 0},\n",
       "   'name': 'Specimens',\n",
       "   'package_id': '56e711e6-c847-4f99-915a-6894bb5c5dea',\n",
       "   'package_title': 'Collection specimens',\n",
       "   'total_records': 1307,\n",
       "   'version': 1665619200000}},\n",
       " 'separate_files': True,\n",
       " 'start': '2022-10-13T13:43:11.470640',\n",
       " 'total_records': 1307,\n",
       " 'transform': {}}"
      ]
     },
     "execution_count": 21,
     "metadata": {},
     "output_type": "execute_result"
    }
   ],
   "source": [
    "for dataset_dir in os.listdir(DATA_PATH):\n",
    "\n",
    "    if not os.path.isfile(dataset_dir):\n",
    "    \n",
    "        # Open metadata file\n",
    "        with open(f'{DATA_PATH}{dataset_dir}/eml.xml') as json_file:\n",
    "        \n",
    "            # Read metadata file\n",
    "            xml_tree = ET.parse('sample.xml')\n",
    "            xml_root = xml_tree.getroot()\n",
    "            \n",
    "            for x in myroot[0]:\n",
    "                 print(x.tag, x.attrib)\n",
    "\n",
    "manifest"
   ]
  },
  {
   "cell_type": "markdown",
   "id": "e045e2eb",
   "metadata": {},
   "source": [
    "#### Declare prefixes and create graph"
   ]
  },
  {
   "cell_type": "code",
   "execution_count": 4,
   "id": "9aa0d60f",
   "metadata": {},
   "outputs": [],
   "source": [
    "# Create namespaces\n",
    "slb=Namespace(\"http://sloanelab.org/\");\n",
    "ecrm=Namespace(\"http://erlangen-crm.org/current/\");\n",
    "crmdig=Namespace(\"http://www.ics.forth.gr/isl/CRMdig/\");\n",
    "\n",
    "# Create graph\n",
    "graph = rdflib.Graph()\n",
    "\n",
    "# Bind prefixes\n",
    "graph.bind(\"slb\", slb)\n",
    "graph.bind(\"ecrm\", ecrm)\n",
    "graph.bind(\"crmdig\", crmdig)"
   ]
  },
  {
   "cell_type": "markdown",
   "id": "37601d3a",
   "metadata": {},
   "source": [
    "#### Add catalogue"
   ]
  },
  {
   "cell_type": "code",
   "execution_count": 6,
   "id": "e3397be6",
   "metadata": {},
   "outputs": [
    {
     "data": {
      "text/plain": [
       "<Graph identifier=N32ce111042214f02bf6c56079d4b43a8 (<class 'rdflib.graph.Graph'>)>"
      ]
     },
     "execution_count": 6,
     "metadata": {},
     "output_type": "execute_result"
    }
   ],
   "source": [
    "for dataset_num, record in enumerate(dataset):\n",
    "    with open('eggs.csv', newline='') as csvfile:\n",
    "...     spamreader = csv.reader(csvfile, delimiter=' ', quotechar='|')\n",
    "    \n",
    "\n",
    "# Dataset\n",
    "jsonIRI = slb[f'D1/nhm_dataset{dataset_id}'];\n",
    "graph.add((jsonIRI, RDF.type, crmdig.D1_Digital_Object))\n",
    "graph.add((jsonIRI, ecrm.P2_has_type, slb['E55/museum_dataset']))\n",
    "graph.add((jsonIRI, RDFS.label, Literal('NHM Dataset {dataset_id}')))\n",
    "\n",
    "for record in dataset['records']:\n",
    "\n",
    "    # Record\n",
    "    recordIRI = slb[f'E73/nhm_dataset/{dataset_id}'];\n",
    "    graph.add((recordIRI, RDF.type, ecrm.E73_Information_Object))\n",
    "    graph.add((recordIRI, ecrm.P2_has_type, slb['E55/museum_record']))\n",
    "    graph.add((recordIRI, RDFS.label, Literal('NHM PV P 73123')))\n",
    "\n",
    "    # People\n",
    "    for person in record['people']:\n",
    "        graph.add((recordIRI, ecrm.P67_refers_to, slb[f'E53/{\"Malta\"}']))\n",
    "    \n",
    "    # Places\n",
    "    for place in record['places']:\n",
    "        graph.add((recordIRI, ecrm.P67_refers_to, slb[f'E53/{\"Malta\"}']))\n",
    "    \n",
    "    objIRI = slb[f'E19/nhm_dataset/PV_P_73123'];\n",
    "    graph.add((objIRI, RDF.type, ecrm.E19_Physical_Object))\n",
    "    graph.add((recordIRI, ecrm.P129_is_about, objIRI))\n",
    "\n",
    "    graph.add((objIRI, OWL.sameAs, slb[f'E19/fishes/172']))"
   ]
  },
  {
   "cell_type": "code",
   "execution_count": 7,
   "id": "3284730f",
   "metadata": {},
   "outputs": [
    {
     "name": "stdout",
     "output_type": "stream",
     "text": [
      "10\n"
     ]
    }
   ],
   "source": [
    "print(len(graph))"
   ]
  },
  {
   "cell_type": "code",
   "execution_count": 9,
   "id": "0440e235",
   "metadata": {},
   "outputs": [],
   "source": [
    "graph.serialize(destination='/Users/danielemetilli/Downloads/nhm-shark-tooth.ttl', format=\"turtle\");"
   ]
  },
  {
   "cell_type": "code",
   "execution_count": null,
   "id": "3de28c14",
   "metadata": {},
   "outputs": [],
   "source": []
  }
 ],
 "metadata": {
  "kernelspec": {
   "display_name": "Python 3 (ipykernel)",
   "language": "python",
   "name": "python3"
  },
  "language_info": {
   "codemirror_mode": {
    "name": "ipython",
    "version": 3
   },
   "file_extension": ".py",
   "mimetype": "text/x-python",
   "name": "python",
   "nbconvert_exporter": "python",
   "pygments_lexer": "ipython3",
   "version": "3.11.2"
  }
 },
 "nbformat": 4,
 "nbformat_minor": 5
}
